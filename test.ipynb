{
 "cells": [
  {
   "cell_type": "code",
   "execution_count": null,
   "metadata": {},
   "outputs": [],
   "source": [
    "def provideStart(start: int = None) -> int:\n",
    "    if start is None:\n",
    "        i = 1\n",
    "    else:\n",
    "        i = start + 1\n",
    "    return i\n",
    "\n",
    "global x\n",
    "x = 69\n",
    "def provideEnd(end: int = x) -> int:\n",
    "    if end is None:\n",
    "        i = x + 1\n",
    "    else:\n",
    "        i = end + 1\n",
    "    return i\n",
    "\n",
    "provideStart()\n",
    "provideEnd()"
   ]
  },
  {
   "cell_type": "code",
   "execution_count": null,
   "metadata": {},
   "outputs": [],
   "source": [
    "global length\n",
    "length = 500 \n",
    "def provideStartAndEnd(start: int = None, end: int = length) -> tuple[int, int]:\n",
    "    if start is None or start < 0:\n",
    "        start = 1\n",
    "    else:\n",
    "        start += 1\n",
    "    \n",
    "    if end > start:\n",
    "        if end is None or end < 0:\n",
    "            end = length + 1\n",
    "        else:\n",
    "            end += 1\n",
    "        return (start, end)\n",
    "    else:\n",
    "        print(\"The Page End must be greater than the Page Start\")"
   ]
  }
 ],
 "metadata": {
  "kernelspec": {
   "display_name": "base",
   "language": "python",
   "name": "python3"
  },
  "language_info": {
   "name": "python",
   "version": "3.9.12"
  },
  "orig_nbformat": 4
 },
 "nbformat": 4,
 "nbformat_minor": 2
}
